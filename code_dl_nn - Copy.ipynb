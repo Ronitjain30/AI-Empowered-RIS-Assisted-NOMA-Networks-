{
  "cells": [
    {
      "cell_type": "code",
      "execution_count": 426,
      "metadata": {
        "id": "vAMjCW1ZvKfg"
      },
      "outputs": [],
      "source": [
        "import numpy as np\n",
        "import pandas as pd\n",
        "import math\n",
        "from tensorflow import keras\n",
        "import tensorflow as tf"
      ]
    },
    {
      "cell_type": "code",
      "execution_count": 427,
      "metadata": {
        "colab": {
          "base_uri": "https://localhost:8080/"
        },
        "id": "uFbs_BZ1vJ-d",
        "outputId": "baae305d-c7fc-46df-df18-3ec8f202cd9c"
      },
      "outputs": [
        {
          "data": {
            "text/plain": [
              "(300.0, 218.36208462093413, 204.1617006198763)"
            ]
          },
          "execution_count": 427,
          "metadata": {},
          "output_type": "execute_result"
        }
      ],
      "source": [
        "# Total RIS elements M:\n",
        "M = 16\n",
        "sigma = -55\n",
        "# Coordinates of AP(x_ap, y_ap, z_ap):\n",
        "AP = [0, 0, 0]\n",
        "\n",
        "# Coordinates of RIS(x_r, y_r, z_r):\n",
        "RIS = [300, 0, 0]\n",
        "\n",
        "# Coordinates of user k(x_k, y_k, z_k):\n",
        "users = []\n",
        "for user in range(4):\n",
        "    users.append([np.random.randint(-500, 800), np.random.randint(-500,500), np.random.randint(-500,500)])\n",
        "\n",
        "def distance(p1, p2):\n",
        "    return math.sqrt((p1[0]-p2[0])**2 + (p1[1]-p2[1])**2 + (p1[2]-p2[2])**2)\n",
        "\n",
        "distance(AP, RIS), distance(AP, users[0]), distance(RIS, users[0])"
      ]
    },
    {
      "cell_type": "code",
      "execution_count": 428,
      "metadata": {
        "colab": {
          "base_uri": "https://localhost:8080/"
        },
        "id": "nwrKkp4M6vIW",
        "outputId": "99a30611-1c43-4531-9f1b-dba1800f2a18"
      },
      "outputs": [],
      "source": [
        "# Calculating NLos vectors for v, gk:\n",
        "v_nlos = np.random.normal(0, math.sqrt(0.5), size=(M,1)) + np.random.normal(0, math.sqrt(0.5), size=(M,1))\n",
        "gk_nlos = np.random.normal(0, math.sqrt(0.5), size=(M,1)) + np.random.normal(0, math.sqrt(0.5), size=(M,1))\n",
        "rk_nlos = np.random.normal(0, math.sqrt(0.5), size=(1,1)) + np.random.normal(0, math.sqrt(0.5), size=(1,1))\n",
        "\n",
        "\n",
        "v_nlos = v_nlos.ravel().tolist()\n",
        "gk_nlos = gk_nlos.ravel().tolist()\n",
        "rk_nlos = rk_nlos.ravel().tolist()"
      ]
    },
    {
      "cell_type": "code",
      "execution_count": 429,
      "metadata": {
        "id": "HXzcuCfrAhSC"
      },
      "outputs": [],
      "source": [
        "# Generating v_los:\n",
        "v_los = []\n",
        "\n",
        "def sin_a_AR(x1,x2,y1,y2):\n",
        "    return (y1-y2)/math.sqrt((x1-x2)**2 + (y1-y2)**2)\n",
        "\n",
        "for m in range(1, M+1):\n",
        "    v_los.append( math.cos((m-1)*math.pi*sin_a_AR(RIS[0], AP[0], RIS[1], AP[1])) \n",
        "              + (1j)*math.sin((m-1)*math.pi*sin_a_AR(RIS[0], AP[0], RIS[1], AP[1])))"
      ]
    },
    {
      "cell_type": "code",
      "execution_count": 430,
      "metadata": {
        "id": "OVx0ZeAvF-Cy"
      },
      "outputs": [],
      "source": [
        "# Generating gk_los:\n",
        "gk_los = [[] for _ in range(4)]\n",
        "\n",
        "for user in range(4):\n",
        "    for m in range(1, M+1):\n",
        "        gk_los[user].append( math.cos((m-1)*math.pi*sin_a_AR(users[user][0], RIS[0], users[user][1], RIS[1])) \n",
        "                         + (1j)*math.sin((m-1)*math.pi*sin_a_AR(users[user][0], RIS[0], users[user][1], RIS[1])))"
      ]
    },
    {
      "cell_type": "code",
      "execution_count": 431,
      "metadata": {
        "id": "7hsb0ZaOIozf"
      },
      "outputs": [],
      "source": [
        "# Generating v[n]:\n",
        "v = []\n",
        "rho_0 = 30       # actual rho_0 = -30 (using 1j later)\n",
        "d_0 = 1\n",
        "alpha = 3*(10**(-4))\n",
        "K_AR = 3\n",
        "K_RU = 3\n",
        "\n",
        "def PL(d):\n",
        "    # print(rho_0*((d/d_0)**alpha))\n",
        "    return rho_0*((d/d_0)**alpha)\n",
        "\n",
        "def generate_v():\n",
        "    for m in range(1, M+1):\n",
        "        v.append( 1j*math.sqrt(PL(300)) * (math.sqrt(K_AR/(K_AR+1)) *v_los[m-1] + math.sqrt(1/(K_AR+1)) *v_nlos[m-1]) )\n",
        "    return v"
      ]
    },
    {
      "cell_type": "code",
      "execution_count": 432,
      "metadata": {
        "id": "XTRzpnprOYbo"
      },
      "outputs": [],
      "source": [
        "# Generating g_k[n]:\n",
        "gk = [[] for _ in range(4)]\n",
        "\n",
        "def generate_gk():\n",
        "    for user in range(4):\n",
        "        for m in range(1, M+1):\n",
        "            gk[user].append( 1j*math.sqrt(PL(distance(RIS, users[user]))) * (math.sqrt(K_RU/(K_RU+1)) *gk_los[user][m-1] + math.sqrt(1/(K_RU+1)) *gk_nlos[m-1]) )\n",
        "    return gk   "
      ]
    },
    {
      "cell_type": "code",
      "execution_count": 433,
      "metadata": {
        "id": "7-epuyaE6mpb"
      },
      "outputs": [],
      "source": [
        "rk = [[] for _ in range(4)]\n",
        "\n",
        "def generate_rk():\n",
        "    for user in range(4):\n",
        "        rk[user].append( 1j*math.sqrt(PL(distance( AP, users[user]))) *rk_nlos[0])\n",
        "    return rk"
      ]
    },
    {
      "cell_type": "code",
      "execution_count": 434,
      "metadata": {
        "id": "BsUh2gvpBqbj"
      },
      "outputs": [],
      "source": [
        "# Generating theta\n",
        "theta = []\n",
        "def generate_theta():\n",
        "    for m in range(M):\n",
        "        theta.append(np.random.uniform(0, 2*math.pi, M))\n",
        "    # theta.ravel().tolist()\n",
        "    return theta\n",
        "\n",
        "theta_matrix = generate_theta()\n",
        "theta = [theta[i][i] for i in range(len(theta))]"
      ]
    },
    {
      "cell_type": "code",
      "execution_count": 435,
      "metadata": {
        "colab": {
          "base_uri": "https://localhost:8080/"
        },
        "id": "bl5OMybgPamI",
        "outputId": "d9b8f4cf-d057-45fa-b845-25c8aa1a0d3c"
      },
      "outputs": [
        {
          "name": "stdout",
          "output_type": "stream",
          "text": [
            "1\n",
            "{'theta_00': [2.164743148001766], 'theta_01': [3.5899281001462815], 'theta_02': [2.4795880089067386], 'theta_03': [2.8790604345430713], 'theta_04': [3.0080185005079616], 'theta_05': [3.043760718752964], 'theta_06': [0.4143735909481563], 'theta_07': [3.291685212676275], 'theta_08': [4.482742967466999], 'theta_09': [3.639053064442328], 'theta_010': [4.041607167867285], 'theta_011': [5.087303158095529], 'theta_012': [6.197515886809353], 'theta_013': [1.6231698133278845], 'theta_014': [1.3685569014985868], 'theta_015': [1.644970749642008], 'pk': [6.5]}\n",
            "(1, 33) (1, 17)\n"
          ]
        }
      ],
      "source": [
        "gk = generate_gk()\n",
        "v = generate_v()\n",
        "rk = generate_rk()\n",
        "theta_0 = theta\n",
        "user_power = 6.5\n",
        "# print(theta_0)\n",
        "print(len(rk[0]))\n",
        "# print(len(theta_0))\n",
        "# print(len(gk))\n",
        "# df_u1 = pd.DataFrame(list(zip(gk, v, rk, theta_0)), columns=['gk', 'v', 'rk', 'theta_0'])\n",
        "dic ={}\n",
        "for i in range(len(gk[0])):\n",
        "    dic['gk'+str(i)] = gk[0][i]\n",
        "\n",
        "for i in range(len(v)):\n",
        "    dic['v'+str(i)] = v[i]\n",
        "\n",
        "dic['rk'] = rk[0]\n",
        "\n",
        "X = pd.DataFrame.from_dict(dic)\n",
        "# df_u2 = pd.DataFrame(list(zip(gk[1], v, rk[1], theta_0)), columns=['gk', 'v', 'rk', 'theta_0'])\n",
        "# df_u3 = pd.DataFrame(list(zip(gk[2], v, rk[2], theta_0)), columns=['gk', 'v', 'rk', 'theta_0'])\n",
        "# df_u4 = pd.DataFrame(list(zip(gk[3], v, rk[3], theta_0)), columns=['gk', 'v', 'rk', 'theta_0'])\n",
        "\n",
        "# df_u1.shape, df_u2.shape, df_u3.shape, df_u4.shape\n",
        "y_dic = {}\n",
        "for i in range(len(theta_0)):\n",
        "    y_dic['theta_0'+str(i)] = [theta_0[i]]\n",
        "y_dic['pk'] = [user_power]\n",
        "print(y_dic)\n",
        "y = pd.DataFrame.from_dict(y_dic)\n",
        "print(X.shape, y.shape)"
      ]
    },
    {
      "cell_type": "code",
      "execution_count": 455,
      "metadata": {},
      "outputs": [],
      "source": [
        "class NeuralNetwork:\n",
        "    def __init__(self):\n",
        "        self.model = keras.models.Sequential()\n",
        "        self.gk = X[[col for col in X if col.startswith('gk')]].to_numpy()\n",
        "        self.v = X[[col for col in X if col.startswith('v')]].to_numpy()\n",
        "        self.rk = X[[col for col in X if col.startswith('rk')]].to_numpy()\n",
        "\n",
        "    def dot_product(self, a_vector,b_vector):\n",
        "    #a1 x b1 + a2 * b2..an*bn return scalar\n",
        "        a_vector= tf.cast(a_vector, tf.complex64)\n",
        "        b_vector= tf.cast(b_vector, tf.complex64)\n",
        "        return sum([an*bn for an,bn in zip(a_vector,b_vector)])\n",
        "\n",
        "    def custom_loss_function(self, y_true, y_pred):\n",
        "        squared_difference = tf.square(y_true - y_pred)\n",
        "        value = tf.reduce_mean(squared_difference, axis=-1)\n",
        "        print(type(value))\n",
        "        print(value.shape)\n",
        "        print(value)\n",
        "        return value\n",
        "\n",
        "    def loss_func(self, y_true, y_pred):\n",
        "        # print(type(y_pred))\n",
        "        # tf.print(tf.shape(y_pred[:,:16]))\n",
        "        # tf.print(tf.shape(y_pred))\n",
        "        # y_true = y_true*0\n",
        "        # print(y_true)\n",
        "        # print(y_pred)\n",
        "        theta_1 = tf.linalg.diag(y_pred[:,:16][0])\n",
        "        # pk = y_pred[:,-1]\n",
        "        # print(theta_1)\n",
        "        # pk_ = pk[0]\n",
        "        # print(pk_)\n",
        "        v_ = tf.transpose(tf.convert_to_tensor(self.v, dtype=tf.complex128))\n",
        "        # print(v_)\n",
        "        a = tf.math.conj(tf.convert_to_tensor(self.gk))\n",
        "        # print(a)\n",
        "        theta_1= tf.cast(theta_1, tf.complex128)\n",
        "        b = tf.tensordot(theta_1, v_, axes=1)\n",
        "        b_ = tf.convert_to_tensor(b)\n",
        "        # print(b_)\n",
        "        rk_ = tf.convert_to_tensor(self.rk[0], dtype=tf.complex128)\n",
        "        # print(rk_)\n",
        "        c = tf.tensordot(a, b_, axes=1)\n",
        "        c_ = tf.convert_to_tensor(c[0])\n",
        "        # print(c_)\n",
        "        # hk = (tf.linalg.norm( tf.convert_to_tensor(rk) + np.tensordot(a, b)))**2\n",
        "        # print(type(c_))\n",
        "        # print(type(rk_))\n",
        "        hk = (tf.linalg.norm(rk_ + c_))**2\n",
        "        # print(hk)\n",
        "        hk_ = tf.fill((1,), hk)\n",
        "        # print(hk_)\n",
        "        return hk_\n",
        "        # RkO = 1/4*(np.log2( 1+ ((pk[0] * hk) * 4)/sigma**2 )) #4 -> users\n",
        "        # rate = (pk*hk)\n",
        "    # def loss_func(self, y_true, y_pred):\n",
        "    #     tf.print(y_pred)\n",
        "    #     squared_difference = tf.square(y_true - y_pred)\n",
        "    #     return tf.reduce_mean(squared_difference, axis=-1)\n",
        "\n",
        "    def InputLayer(self, Input):\n",
        "        self.model.add(keras.layers.Flatten(input_shape=Input))\n",
        "    def AddLayers(self, n_layers, neurons, activation):\n",
        "        for i in range(n_layers):\n",
        "            self.model.add(keras.layers.BatchNormalization())\n",
        "            self.model.add(keras.layers.Dense(neurons[i], activation=activation[i],kernel_initializer='he_normal'))\n",
        "            # self.model.add(keras.layers.Dropout(0.2))\n",
        "            # print(self.model.summary())\n",
        "    def fit(self,loss, X_train, y_train):\n",
        "        # self.loss_func(X_train, y_train)\n",
        "        optimizer = keras.optimizers.Adam(learning_rate=0.0003)\n",
        "        self.model.compile(loss=self.loss_func, optimizer=optimizer, run_eagerly=True)\n",
        "        self.model.fit(X_train, y_train, epochs=10)\n",
        "    \n",
        "    def predict(self, X):\n",
        "        y = self.model.predict(X)\n",
        "        return y"
      ]
    },
    {
      "cell_type": "code",
      "execution_count": 456,
      "metadata": {},
      "outputs": [
        {
          "name": "stdout",
          "output_type": "stream",
          "text": [
            "Epoch 1/10\n",
            "1/1 [==============================] - 0s 117ms/step - loss: 2.3435\n",
            "Epoch 2/10\n",
            "1/1 [==============================] - 0s 20ms/step - loss: 1.8175\n",
            "Epoch 3/10\n",
            "1/1 [==============================] - 0s 18ms/step - loss: 1.3585\n",
            "Epoch 4/10\n",
            "1/1 [==============================] - 0s 20ms/step - loss: 0.9678\n",
            "Epoch 5/10\n",
            "1/1 [==============================] - 0s 23ms/step - loss: 0.6461\n",
            "Epoch 6/10\n",
            "1/1 [==============================] - 0s 18ms/step - loss: 0.3932\n",
            "Epoch 7/10\n",
            "1/1 [==============================] - 0s 20ms/step - loss: 0.2071\n",
            "Epoch 8/10\n",
            "1/1 [==============================] - 0s 20ms/step - loss: 0.0841\n",
            "Epoch 9/10\n",
            "1/1 [==============================] - 0s 20ms/step - loss: 0.0181\n",
            "Epoch 10/10\n",
            "1/1 [==============================] - 0s 22ms/step - loss: 9.5069e-05\n",
            "power allocation =  0.9980768\n",
            "theta[n] =  [ 0.75001377 -0.96453804  0.99819076 -0.1327869  -0.97391087 -0.9981955\n",
            " -0.8820091   0.9956111  -0.7964004   0.99850786  0.98888445 -0.12552495\n",
            " -0.9940127  -0.92905945 -0.9999831   0.99982166]\n"
          ]
        }
      ],
      "source": [
        "nmodel = NeuralNetwork()\n",
        "nmodel.InputLayer([X.shape[1]])\n",
        "nmodel.AddLayers(2,[30,y.shape[1]], [\"relu\",\"tanh\"])\n",
        "nmodel.fit(\"mse\", X,y)\n",
        "ypred = nmodel.predict(X)\n",
        "print(\"power allocation = \",ypred[0][16])\n",
        "print(\"theta[n] = \", ypred[0][:16])"
      ]
    },
    {
      "cell_type": "code",
      "execution_count": 438,
      "metadata": {
        "id": "IkGhe5W_svng"
      },
      "outputs": [],
      "source": [
        "# from tensorflow.keras.models import Sequential\n",
        "# from tensorflow.keras.layers import Dense, BatchNormalization, LSTM\n",
        "\n",
        "# model = Sequential([\n",
        "#     Dense(64, input_shape=(4,), activation=\"relu\"),\n",
        "#     LSTM(64, return_sequences=False, dropout=0.1, recurrent_dropout=0.1),\n",
        "#     Dense(128, activation='relu'),\n",
        "#     Dense(128, activation='relu'),\n",
        "#     Dense(64, activation='relu'),\n",
        "#     Dense(64, activation='relu'),\n",
        "#     BatchNormalization(),\n",
        "#     Dense(3, activation='tanh')\n",
        "# ]);\n",
        "\n",
        "# e = 32\n",
        "# N = 16\n",
        "\n",
        "# for epoch in range(e):\n",
        "#     # Reset the environment and initial state\n",
        "#     gk = generate_gk()\n",
        "#     v = generate_v()\n",
        "#     rk = generate_rk()\n",
        "#     theta = generate_theta()\n",
        "\n",
        "#     for n in range(N):\n",
        "#     # Input the current phase shifts Θ[n − 1] and the CSI {gk[n], v[n], rk[n]} to the DNN\n"
      ]
    },
    {
      "cell_type": "code",
      "execution_count": null,
      "metadata": {},
      "outputs": [],
      "source": []
    }
  ],
  "metadata": {
    "colab": {
      "collapsed_sections": [],
      "name": "PE.ipynb",
      "provenance": []
    },
    "kernelspec": {
      "display_name": "Python 3",
      "name": "python3"
    },
    "language_info": {
      "codemirror_mode": {
        "name": "ipython",
        "version": 3
      },
      "file_extension": ".py",
      "mimetype": "text/x-python",
      "name": "python",
      "nbconvert_exporter": "python",
      "pygments_lexer": "ipython3",
      "version": "3.9.7"
    }
  },
  "nbformat": 4,
  "nbformat_minor": 0
}
