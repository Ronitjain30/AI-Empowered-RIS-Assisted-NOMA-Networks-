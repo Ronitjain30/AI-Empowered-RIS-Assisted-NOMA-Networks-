{
  "cells": [
    {
      "cell_type": "code",
      "execution_count": 28,
      "metadata": {
        "id": "vAMjCW1ZvKfg"
      },
      "outputs": [],
      "source": [
        "import numpy as np\n",
        "import pandas as pd\n",
        "import math\n",
        "from tensorflow import keras\n",
        "import tensorflow as tf"
      ]
    },
    {
      "cell_type": "code",
      "execution_count": 29,
      "metadata": {
        "colab": {
          "base_uri": "https://localhost:8080/"
        },
        "id": "uFbs_BZ1vJ-d",
        "outputId": "baae305d-c7fc-46df-df18-3ec8f202cd9c"
      },
      "outputs": [
        {
          "data": {
            "text/plain": [
              "(300.0, 463.09934139447876, 708.8448349251055)"
            ]
          },
          "execution_count": 29,
          "metadata": {},
          "output_type": "execute_result"
        }
      ],
      "source": [
        "# Total RIS elements M:\n",
        "M = 16\n",
        "sigma = np.power(10,-8.5)       #-55\n",
        "num_users = 4\n",
        "# Coordinates of AP(x_ap, y_ap, z_ap):\n",
        "AP = [0, 0, 0]\n",
        "\n",
        "# Coordinates of RIS(x_r, y_r, z_r):\n",
        "RIS = [300, 0, 0]\n",
        "\n",
        "# Coordinates of user k(x_k, y_k, z_k):\n",
        "users = []\n",
        "for user in range(num_users):\n",
        "    users.append([np.random.randint(-500, 800), np.random.randint(-500,500), np.random.randint(-500,500)])\n",
        "\n",
        "def distance(p1, p2):\n",
        "    return math.sqrt((p1[0]-p2[0])**2 + (p1[1]-p2[1])**2 + (p1[2]-p2[2])**2)\n",
        "\n",
        "distance(AP, RIS), distance(AP, users[0]), distance(RIS, users[0])"
      ]
    },
    {
      "cell_type": "code",
      "execution_count": 30,
      "metadata": {
        "colab": {
          "base_uri": "https://localhost:8080/"
        },
        "id": "nwrKkp4M6vIW",
        "outputId": "99a30611-1c43-4531-9f1b-dba1800f2a18"
      },
      "outputs": [],
      "source": [
        "# Calculating NLos vectors for v, gk:\n",
        "v_nlos = np.random.normal(0, math.sqrt(0.5), size=(M,1)) + np.random.normal(0, math.sqrt(0.5), size=(M,1))\n",
        "gk_nlos = np.random.normal(0, math.sqrt(0.5), size=(M,1)) + np.random.normal(0, math.sqrt(0.5), size=(M,1))\n",
        "rk_nlos = np.random.normal(0, math.sqrt(0.5), size=(1,1)) + np.random.normal(0, math.sqrt(0.5), size=(1,1))\n",
        "\n",
        "\n",
        "v_nlos = v_nlos.ravel().tolist()\n",
        "gk_nlos = gk_nlos.ravel().tolist()\n",
        "rk_nlos = rk_nlos.ravel().tolist()"
      ]
    },
    {
      "cell_type": "code",
      "execution_count": 31,
      "metadata": {
        "id": "HXzcuCfrAhSC"
      },
      "outputs": [],
      "source": [
        "# Generating v_los:\n",
        "v_los = []\n",
        "\n",
        "def sin_a_AR(x1,x2,y1,y2):\n",
        "    return (y1-y2)/math.sqrt((x1-x2)**2 + (y1-y2)**2)\n",
        "\n",
        "for m in range(1, M+1):\n",
        "    v_los.append( math.cos((m-1)*math.pi*sin_a_AR(RIS[0], AP[0], RIS[1], AP[1])) \n",
        "              + (1j)*math.sin((m-1)*math.pi*sin_a_AR(RIS[0], AP[0], RIS[1], AP[1])))"
      ]
    },
    {
      "cell_type": "code",
      "execution_count": 32,
      "metadata": {
        "id": "OVx0ZeAvF-Cy"
      },
      "outputs": [],
      "source": [
        "# Generating gk_los:\n",
        "gk_los = [[] for _ in range(num_users)]\n",
        "\n",
        "for user in range(num_users):\n",
        "    for m in range(1, M+1):\n",
        "        gk_los[user].append( math.cos((m-1)*math.pi*sin_a_AR(users[user][0], RIS[0], users[user][1], RIS[1])) \n",
        "                         + (1j)*math.sin((m-1)*math.pi*sin_a_AR(users[user][0], RIS[0], users[user][1], RIS[1])))"
      ]
    },
    {
      "cell_type": "code",
      "execution_count": 33,
      "metadata": {
        "id": "7hsb0ZaOIozf"
      },
      "outputs": [],
      "source": [
        "# Generating v[n]:\n",
        "v = []\n",
        "rho_0 = 30       # actual rho_0 = -30 (using 1j later)\n",
        "d_0 = 1\n",
        "alpha = 3*(10**(-4))\n",
        "K_AR = 3\n",
        "K_RU = 3\n",
        "\n",
        "def PL(d):\n",
        "    # print(rho_0*((d/d_0)**alpha))\n",
        "    return rho_0*((d/d_0)**alpha)\n",
        "\n",
        "def generate_v():\n",
        "    for m in range(1, M+1):\n",
        "        v.append( 1j*math.sqrt(PL(300)) * (math.sqrt(K_AR/(K_AR+1)) *v_los[m-1] + math.sqrt(1/(K_AR+1)) *v_nlos[m-1]) )\n",
        "    return v"
      ]
    },
    {
      "cell_type": "code",
      "execution_count": 34,
      "metadata": {
        "id": "XTRzpnprOYbo"
      },
      "outputs": [],
      "source": [
        "# Generating g_k[n]:\n",
        "gk = [[] for _ in range(num_users)]\n",
        "\n",
        "def generate_gk():\n",
        "    for user in range(num_users):\n",
        "        for m in range(1, M+1):\n",
        "            gk[user].append( 1j*math.sqrt(PL(distance(RIS, users[user]))) * (math.sqrt(K_RU/(K_RU+1)) *gk_los[user][m-1] + math.sqrt(1/(K_RU+1)) *gk_nlos[m-1]) )\n",
        "    return gk   "
      ]
    },
    {
      "cell_type": "code",
      "execution_count": 35,
      "metadata": {
        "id": "7-epuyaE6mpb"
      },
      "outputs": [],
      "source": [
        "rk = [[] for _ in range(num_users)]\n",
        "\n",
        "def generate_rk():\n",
        "    for user in range(num_users):\n",
        "        rk[user].append( 1j*math.sqrt(PL(distance( AP, users[user]))) *rk_nlos[0])\n",
        "    return rk"
      ]
    },
    {
      "cell_type": "code",
      "execution_count": 36,
      "metadata": {
        "id": "BsUh2gvpBqbj"
      },
      "outputs": [],
      "source": [
        "# Generating theta\n",
        "def generate_theta():\n",
        "    theta = []\n",
        "    for m in range(M):\n",
        "        theta.append(np.random.uniform(0, 2*math.pi, M))\n",
        "    # theta.ravel().tolist()\n",
        "    return theta\n",
        "# theta_matrix = generate_theta()\n",
        "# theta = [theta_matrix[i][i] for i in range(len(theta_matrix))]"
      ]
    },
    {
      "cell_type": "code",
      "execution_count": 37,
      "metadata": {
        "colab": {
          "base_uri": "https://localhost:8080/"
        },
        "id": "bl5OMybgPamI",
        "outputId": "d9b8f4cf-d057-45fa-b845-25c8aa1a0d3c"
      },
      "outputs": [
        {
          "name": "stdout",
          "output_type": "stream",
          "text": [
            "(4, 33) (4, 17)\n",
            "                  gk0                 gk1                 gk2  \\\n",
            "0  0.000000+5.974365j  4.568476+4.850805j  2.489313-3.538982j   \n",
            "0  0.000000+5.973919j -4.546888+4.923256j -2.617015-3.457135j   \n",
            "0  0.000000+5.974187j  1.077975+8.181064j  2.099648+4.762688j   \n",
            "0  0.000000+5.973750j -4.589656+4.771247j -2.347997-3.622141j   \n",
            "\n",
            "                  gk3                 gk4                  gk5  \\\n",
            "0 -3.212076-3.769431j -4.239538+1.438095j  0.901998+10.455188j   \n",
            "0  3.040634-3.919014j  4.367088+1.162904j -0.527105+10.511514j   \n",
            "0  3.011658+3.397824j  3.766372+2.191129j   4.324371+7.753701j   \n",
            "0  3.388457-3.598071j  4.081479+1.725381j -1.300435+10.358991j   \n",
            "\n",
            "                  gk6                 gk7                 gk8  \\\n",
            "0  4.731027-2.724159j  1.675887-3.728543j -3.817855+0.182296j   \n",
            "0 -4.670469-2.273029j -2.161038-3.513501j  3.426658-0.281287j   \n",
            "0  4.656511-2.198910j  4.745445+0.559810j  4.586528+1.777528j   \n",
            "0 -4.746762-3.215212j -1.127935-3.897789j  4.169728+0.734771j   \n",
            "\n",
            "                  gk9  ...                  v7                  v8  \\\n",
            "0 -3.756194+2.082399j  ...  0.000000+3.580379j  0.000000+5.304184j   \n",
            "0  4.133292+1.514090j  ...  0.000000+3.580379j  0.000000+5.304184j   \n",
            "0  4.188061-3.058717j  ...  0.000000+3.580379j  0.000000+5.304184j   \n",
            "0  3.261104+2.628465j  ...  0.000000+3.580379j  0.000000+5.304184j   \n",
            "\n",
            "                   v9                 v10                 v11  \\\n",
            "0  0.000000+9.570832j  0.000000+6.124986j  0.000000+2.811826j   \n",
            "0  0.000000+9.570832j  0.000000+6.124986j  0.000000+2.811826j   \n",
            "0  0.000000+9.570832j  0.000000+6.124986j  0.000000+2.811826j   \n",
            "0  0.000000+9.570832j  0.000000+6.124986j  0.000000+2.811826j   \n",
            "\n",
            "                  v12                 v13                 v14  \\\n",
            "0  0.000000+0.431339j  0.000000+6.408822j  0.000000+5.744354j   \n",
            "0  0.000000+0.431339j  0.000000+6.408822j  0.000000+5.744354j   \n",
            "0  0.000000+0.431339j  0.000000+6.408822j  0.000000+5.744354j   \n",
            "0  0.000000+0.431339j  0.000000+6.408822j  0.000000+5.744354j   \n",
            "\n",
            "                  v15                  rk  \n",
            "0  0.000000+8.177633j -0.000000-2.591273j  \n",
            "0  0.000000+8.177633j -0.000000-2.591434j  \n",
            "0  0.000000+8.177633j -0.000000-2.591280j  \n",
            "0  0.000000+8.177633j -0.000000-2.591377j  \n",
            "\n",
            "[4 rows x 33 columns]\n"
          ]
        }
      ],
      "source": [
        "gk = generate_gk()\n",
        "v = generate_v()\n",
        "rk = generate_rk()\n",
        "# print(gk)\n",
        "# print(v)\n",
        "# print(rk)\n",
        "\n",
        "user_power = np.power(10,-2.35)    # 24\n",
        "# print(theta_0)\n",
        "# print(len(rk[0]))\n",
        "# print(len(theta_0))\n",
        "# print(len(gk))\n",
        "# df_u1 = pd.DataFrame(list(zip(gk, v, rk, theta_0)), columns=['gk', 'v', 'rk', 'theta_0'])\n",
        "\n",
        "X = pd.DataFrame()\n",
        "for user in range(num_users):\n",
        "    dic = {}\n",
        "    for i in range(len(gk[user])):\n",
        "        dic['gk'+str(i)] = gk[user][i]\n",
        "    for i in range(len(v)):\n",
        "        dic['v'+str(i)] = v[i]\n",
        "    dic['rk'] = rk[user]\n",
        "    x = pd.DataFrame.from_dict(dic)\n",
        "\n",
        "    X = pd.concat([X,x])\n",
        "\n",
        "y = pd.DataFrame()\n",
        "for user in range(num_users):\n",
        "    theta_matrix = generate_theta()\n",
        "    theta = [theta_matrix[i][i] for i in range(len(theta_matrix))]\n",
        "    y_dic = {}\n",
        "    for i in range(len(theta)):\n",
        "        y_dic['theta'+str(i)] = [theta[i]]\n",
        "    y_dic['pk'] = [user_power]\n",
        "    # print(y_dic)\n",
        "    y_df = pd.DataFrame.from_dict(y_dic)\n",
        "\n",
        "    y = pd.concat([y, y_df])\n",
        "\n",
        "print(X.shape, y.shape)\n",
        "print(X.head())"
      ]
    },
    {
      "cell_type": "code",
      "execution_count": 38,
      "metadata": {},
      "outputs": [],
      "source": [
        "class NeuralNetwork:\n",
        "    def __init__(self):\n",
        "        self.model = keras.models.Sequential()\n",
        "        self.gk = X[[col for col in X if col.startswith('gk')]].to_numpy()\n",
        "        self.v = X[[col for col in X if col.startswith('v')]].to_numpy()\n",
        "        self.rk = X[[col for col in X if col.startswith('rk')]].to_numpy()\n",
        "\n",
        "    def loss_func(self, y_true, y_pred):\n",
        "        hk_final = 0\n",
        "        for user in range(num_users):\n",
        "            theta_1 = tf.linalg.diag(y_pred[:,:M][user])\n",
        "            # pk = y_pred[:,-1]\n",
        "            # pk_ = pk[0]\n",
        "            # print(pk_)\n",
        "            v_ = tf.transpose(tf.convert_to_tensor(self.v[user], dtype=tf.complex128))\n",
        "            # print(v_)\n",
        "            a = tf.math.conj(tf.convert_to_tensor(self.gk[user]))\n",
        "            # print(a)\n",
        "            theta_1= tf.cast(theta_1, tf.complex128)\n",
        "            b = tf.tensordot(theta_1, v_, axes=1)\n",
        "            b_ = tf.convert_to_tensor(b)\n",
        "            # print(b_)\n",
        "            rk_ = tf.convert_to_tensor(self.rk[user], dtype=tf.complex128)\n",
        "            # print(rk_)\n",
        "            c = tf.tensordot(a, b_, axes=1)\n",
        "            c_ = tf.convert_to_tensor(c)\n",
        "            # print(c_)\n",
        "            hk = (tf.linalg.norm(rk_ + c_))**2\n",
        "            # print(hk)\n",
        "            hk_ = tf.fill((1,), hk)\n",
        "            # print(hk_)\n",
        "            hk_final = hk_final + hk_\n",
        "            # print(hk_)\n",
        "        return hk_final\n",
        "        # RkO = 1/4*(np.log2( 1+ ((pk[0] * hk) * 4)/sigma**2 )) #4 -> users\n",
        "        # rate = (pk*hk)\n",
        "    # def loss_func(self, y_true, y_pred):\n",
        "    #     tf.print(y_pred)\n",
        "    #     squared_difference = tf.square(y_true - y_pred)\n",
        "    #     return tf.reduce_mean(squared_difference, axis=-1)\n",
        "\n",
        "    def InputLayer(self, Input):\n",
        "        self.model.add(keras.layers.Flatten(input_shape=Input))\n",
        "    def AddLayers(self, n_layers, neurons, activation):\n",
        "        for i in range(n_layers):\n",
        "            self.model.add(keras.layers.BatchNormalization())\n",
        "            self.model.add(keras.layers.Dense(neurons[i], activation=activation[i],kernel_initializer='he_normal'))\n",
        "            # self.model.add(keras.layers.Dropout(0.2))\n",
        "            # print(self.model.summary())\n",
        "    def fit(self,loss, X_train, y_train):\n",
        "        # self.loss_func(X_train, y_train)\n",
        "        optimizer = keras.optimizers.Adam(learning_rate=0.0003)\n",
        "        self.model.compile(loss=self.loss_func, optimizer=optimizer, run_eagerly=True)\n",
        "        self.model.fit(X_train, y_train, epochs=32)\n",
        "    \n",
        "    def predict(self, X):\n",
        "        y = self.model.predict(X)\n",
        "        return y"
      ]
    },
    {
      "cell_type": "code",
      "execution_count": 39,
      "metadata": {},
      "outputs": [
        {
          "name": "stdout",
          "output_type": "stream",
          "text": [
            "Epoch 1/32\n",
            "1/1 [==============================] - 0s 37ms/step - loss: 14735.5889\n",
            "Epoch 2/32\n",
            "1/1 [==============================] - 0s 28ms/step - loss: 15847.2480\n",
            "Epoch 3/32\n",
            "1/1 [==============================] - 0s 35ms/step - loss: 14591.2549\n",
            "Epoch 4/32\n",
            "1/1 [==============================] - 0s 31ms/step - loss: 12035.9619\n",
            "Epoch 5/32\n",
            "1/1 [==============================] - 0s 37ms/step - loss: 23528.5293\n",
            "Epoch 6/32\n",
            "1/1 [==============================] - 0s 34ms/step - loss: 10952.7695\n",
            "Epoch 7/32\n",
            "1/1 [==============================] - 0s 36ms/step - loss: 11387.7627\n",
            "Epoch 8/32\n",
            "1/1 [==============================] - 0s 40ms/step - loss: 10506.7871\n",
            "Epoch 9/32\n",
            "1/1 [==============================] - 0s 34ms/step - loss: 9972.6523\n",
            "Epoch 10/32\n",
            "1/1 [==============================] - 0s 28ms/step - loss: 9128.5781\n",
            "Epoch 11/32\n",
            "1/1 [==============================] - 0s 33ms/step - loss: 9377.5791\n",
            "Epoch 12/32\n",
            "1/1 [==============================] - 0s 29ms/step - loss: 8751.5781\n",
            "Epoch 13/32\n",
            "1/1 [==============================] - 0s 30ms/step - loss: 7849.7656\n",
            "Epoch 14/32\n",
            "1/1 [==============================] - 0s 31ms/step - loss: 7804.0386\n",
            "Epoch 15/32\n",
            "1/1 [==============================] - 0s 37ms/step - loss: 7451.7886\n",
            "Epoch 16/32\n",
            "1/1 [==============================] - 0s 32ms/step - loss: 6671.4746\n",
            "Epoch 17/32\n",
            "1/1 [==============================] - 0s 34ms/step - loss: 6732.2949\n",
            "Epoch 18/32\n",
            "1/1 [==============================] - 0s 31ms/step - loss: 8597.1484\n",
            "Epoch 19/32\n",
            "1/1 [==============================] - 0s 29ms/step - loss: 5953.0859\n",
            "Epoch 20/32\n",
            "1/1 [==============================] - 0s 29ms/step - loss: 5402.0239\n",
            "Epoch 21/32\n",
            "1/1 [==============================] - 0s 27ms/step - loss: 4862.6357\n",
            "Epoch 22/32\n",
            "1/1 [==============================] - 0s 32ms/step - loss: 4766.7539\n",
            "Epoch 23/32\n",
            "1/1 [==============================] - 0s 32ms/step - loss: 12549.5752\n",
            "Epoch 24/32\n",
            "1/1 [==============================] - 0s 28ms/step - loss: 13320.1826\n",
            "Epoch 25/32\n",
            "1/1 [==============================] - 0s 30ms/step - loss: 3920.2405\n",
            "Epoch 26/32\n",
            "1/1 [==============================] - 0s 35ms/step - loss: 3812.8477\n",
            "Epoch 27/32\n",
            "1/1 [==============================] - 0s 26ms/step - loss: 5476.0259\n",
            "Epoch 28/32\n",
            "1/1 [==============================] - 0s 29ms/step - loss: 3908.1543\n",
            "Epoch 29/32\n",
            "1/1 [==============================] - 0s 30ms/step - loss: 3217.5559\n",
            "Epoch 30/32\n",
            "1/1 [==============================] - 0s 29ms/step - loss: 3000.6709\n",
            "Epoch 31/32\n",
            "1/1 [==============================] - 0s 31ms/step - loss: 2591.9924\n",
            "Epoch 32/32\n",
            "1/1 [==============================] - 0s 29ms/step - loss: 2774.5708\n",
            "power allocation =  -0.9941651\n",
            "theta[n] =  [ 0.6004798  -0.14766732  0.9791194  -0.6703143   0.3398298   0.8983215\n",
            " -0.9103315  -0.23459543  0.6918883  -0.9956334   0.7870724  -0.9381095\n",
            "  0.46440333  0.72438645  0.16847858  0.7040918 ]\n"
          ]
        }
      ],
      "source": [
        "nmodel = NeuralNetwork()\n",
        "nmodel.InputLayer([X.shape[1]])\n",
        "nmodel.AddLayers(2,[30,y.shape[1]], [\"relu\",\"tanh\"])\n",
        "nmodel.fit(\"mse\", X,y)\n",
        "ypred = nmodel.predict(X)\n",
        "print(\"power allocation = \",ypred[0][M])\n",
        "print(\"theta[n] = \", ypred[0][:M])"
      ]
    },
    {
      "cell_type": "code",
      "execution_count": 40,
      "metadata": {
        "id": "IkGhe5W_svng"
      },
      "outputs": [],
      "source": [
        "# from tensorflow.keras.models import Sequential\n",
        "# from tensorflow.keras.layers import Dense, BatchNormalization, LSTM\n",
        "\n",
        "# model = Sequential([\n",
        "#     Dense(64, input_shape=(4,), activation=\"relu\"),\n",
        "#     LSTM(64, return_sequences=False, dropout=0.1, recurrent_dropout=0.1),\n",
        "#     Dense(128, activation='relu'),\n",
        "#     Dense(128, activation='relu'),\n",
        "#     Dense(64, activation='relu'),\n",
        "#     Dense(64, activation='relu'),\n",
        "#     BatchNormalization(),\n",
        "#     Dense(3, activation='tanh')\n",
        "# ]);\n",
        "\n",
        "# e = 32\n",
        "# N = 16\n",
        "\n",
        "# for epoch in range(e):\n",
        "#     # Reset the environment and initial state\n",
        "#     gk = generate_gk()\n",
        "#     v = generate_v()\n",
        "#     rk = generate_rk()\n",
        "#     theta = generate_theta()\n",
        "\n",
        "#     for n in range(N):\n",
        "#     # Input the current phase shifts Θ[n − 1] and the CSI {gk[n], v[n], rk[n]} to the DNN\n"
      ]
    },
    {
      "cell_type": "code",
      "execution_count": null,
      "metadata": {},
      "outputs": [],
      "source": []
    }
  ],
  "metadata": {
    "colab": {
      "collapsed_sections": [],
      "name": "PE.ipynb",
      "provenance": []
    },
    "kernelspec": {
      "display_name": "Python 3",
      "name": "python3"
    },
    "language_info": {
      "codemirror_mode": {
        "name": "ipython",
        "version": 3
      },
      "file_extension": ".py",
      "mimetype": "text/x-python",
      "name": "python",
      "nbconvert_exporter": "python",
      "pygments_lexer": "ipython3",
      "version": "3.9.7"
    }
  },
  "nbformat": 4,
  "nbformat_minor": 0
}
